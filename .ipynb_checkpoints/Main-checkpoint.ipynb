{
 "cells": [
  {
   "cell_type": "code",
   "execution_count": 4,
   "id": "79c02710-d416-4e2e-b9b2-c6aa39eb7861",
   "metadata": {
    "tags": []
   },
   "outputs": [
    {
     "name": "stdout",
     "output_type": "stream",
     "text": [
      "Requirement already satisfied: matplotlib in /opt/conda/lib/python3.10/site-packages (3.7.1)\n",
      "Requirement already satisfied: numpy in /opt/conda/lib/python3.10/site-packages (1.23.5)\n",
      "Requirement already satisfied: contourpy>=1.0.1 in /opt/conda/lib/python3.10/site-packages (from matplotlib) (1.0.7)\n",
      "Requirement already satisfied: cycler>=0.10 in /opt/conda/lib/python3.10/site-packages (from matplotlib) (0.11.0)\n",
      "Requirement already satisfied: fonttools>=4.22.0 in /opt/conda/lib/python3.10/site-packages (from matplotlib) (4.39.4)\n",
      "Requirement already satisfied: kiwisolver>=1.0.1 in /opt/conda/lib/python3.10/site-packages (from matplotlib) (1.4.4)\n",
      "Requirement already satisfied: packaging>=20.0 in /opt/conda/lib/python3.10/site-packages (from matplotlib) (23.1)\n",
      "Requirement already satisfied: pillow>=6.2.0 in /opt/conda/lib/python3.10/site-packages (from matplotlib) (9.5.0)\n",
      "Requirement already satisfied: pyparsing>=2.3.1 in /opt/conda/lib/python3.10/site-packages (from matplotlib) (3.0.9)\n",
      "Requirement already satisfied: python-dateutil>=2.7 in /opt/conda/lib/python3.10/site-packages (from matplotlib) (2.8.2)\n",
      "Requirement already satisfied: six>=1.5 in /opt/conda/lib/python3.10/site-packages (from python-dateutil>=2.7->matplotlib) (1.16.0)\n"
     ]
    }
   ],
   "source": [
    "!pip install matplotlib numpy"
   ]
  },
  {
   "cell_type": "code",
   "execution_count": 1,
   "id": "b8da5639-ad88-42f1-b7bd-ab7ecbb06835",
   "metadata": {
    "tags": []
   },
   "outputs": [],
   "source": [
    "# Draw spectrogram of IQ signal\n",
    "def DrawSpectrogram(iqSignal, samplingRate):\n",
    "    import matplotlib.pyplot as plt\n",
    "    # Create a spectrogram\n",
    "    Pxx, freqs, times, im = plt.specgram(iqSignal, Fs=samplingRate, NFFT=1024)\n",
    "    plt.xlabel('Time (s)')\n",
    "    plt.ylabel('Frequency (Hz)')\n",
    "    plt.title('Spectrogram')\n",
    "    plt.colorbar(label='Intensity (dB)')\n",
    "    plt.show()\n",
    "# Draq complex FFT of IQ signal\n",
    "def DrawPSD(iqSignal, samplingRate):\n",
    "    import matplotlib.pyplot as plt\n",
    "    # Calculate the PSD\n",
    "    f, Pxx = scipy.signal.welch(iqSignal, fs=samplingRate, nperseg=1024)\n",
    "    # Visualize the PSD\n",
    "    plt.semilogy(f, Pxx)\n",
    "    plt.xlabel('Frequency (Hz)')\n",
    "    plt.ylabel('Power/Frequency')\n",
    "    plt.title('Power Spectral Density')\n",
    "    plt.show()"
   ]
  },
  {
   "cell_type": "code",
   "execution_count": 5,
   "id": "6720cd8f-9333-415c-a9a0-8faceb4aa987",
   "metadata": {
    "tags": []
   },
   "outputs": [],
   "source": [
    "# Demodulate USB signal from IQ\n",
    "def DecodeUsbSignal(inputIq, output_file: str, carrierFreq: int):\n",
    "    import logging\n",
    "    logging.debug(\"DEC -> Starting USB decode\")\n",
    "    # Create the carrier signal for demodulation\n",
    "    sampling_rate = RTLTCP_SAMPLERATE  # Adjust this to your actual sampling rate\n",
    "    t = np.arange(0, len(inputIq)) / sampling_rate\n",
    "    #carrier_freq = 0  # Adjust this to your USB carrier frequency\n",
    "    carrier_signal = np.exp(1j * 2 * np.pi * carrierFreq * t)\n",
    "    # Demodulate the USB signal\n",
    "    demodulated_signal = inputIq * carrier_signal\n",
    "    # # Shift the spectrum down\n",
    "    # logging.debug(f\"DEC -> Shifting IQ down {carrierFreq} Hz\")\n",
    "    # demodulated_signal = ShiftIQ(demodulated_signal,    carrierFreq)\n",
    "    #Ensure that the demodulated signal is real-valued\n",
    "    demodulated_signal = demodulated_signal.real\n",
    "    # Normalize the signal before scaling\n",
    "    max_value = np.max(np.abs(demodulated_signal))\n",
    "    if max_value != 0:\n",
    "        normalized_signal = demodulated_signal / max_value\n",
    "    else:\n",
    "        normalized_signal = demodulated_signal\n",
    "    # Scale the signal for 16-bit audio\n",
    "    scaled_signal = np.int16(normalized_signal * 32767)\n",
    "    # Write to file\n",
    "    logging.debug(f\"DEC -> Writing to {output_file}\")\n",
    "    scipy.io.wavfile.write(output_file, sampling_rate, scaled_signal)\n",
    "    logging.debug(f\"DEC -> Writing completed\")"
   ]
  },
  {
   "cell_type": "code",
   "execution_count": 8,
   "id": "0bab004a-0646-4aab-ae59-21f20e6ddfe1",
   "metadata": {
    "tags": []
   },
   "outputs": [],
   "source": [
    "# Filter IQ signal and send it to USB decoder\n",
    "import numpy as np\n",
    "import logging\n",
    "def FilterAndDecode(inputIq: np.ndarray[any], fileName: str):\n",
    "    # Assuming you have your IQ signal stored in the variable \"iq_signal\"\n",
    "    samplingRate = RTLTCP_SAMPLERATE  # Sampling rate in Hz\n",
    "    carrierFreq = (samplingRate/4) - (RTLTCP_TUNINGFREQ - RTLTCP_USBSIG) \n",
    "    minFreq = int(carrierFreq)  # Minimum frequency in Hz\n",
    "    maxFreq = int(carrierFreq + 3000)  # Maximum frequency in Hz\n",
    "    #logging.debug(\"DEC -> Plotting inputIq spectrum\")\n",
    "    #DrawPSD2(inputIq, samplingRate)\n",
    "    #DrawSpectrogram(inputIq, samplingRate)\n",
    "    logging.debug(f\"DEC -> Tuning freq: {RTLTCP_TUNINGFREQ} Hz, FT8: {RTLTCP_USBSIG} Hz\")\n",
    "    logging.debug(f\"DEC -> USB IQ carrier frequency at {carrierFreq} Hz\")\n",
    "    logging.debug(f\"DEC -> Applying IQ filter from {minFreq} Hz to {maxFreq} Hz\")\n",
    "    filteredSignal = IQLowPassFilter(inputIq, minFreq, maxFreq, samplingRate)\n",
    "    #logging.debug(\"DEC -> Plotting filtered IQ bandwidth\")\n",
    "    #DrawPSD2(filtered_signal, samplingRate)\n",
    "    #DrawSpectrogram(filtered_signal, samplingRate)\n",
    "    # Now \"filtered_signal\" contains the IQ signal with frequencies between minFreq and maxFreq\n",
    "    DecodeUsbSignal(filteredSignal, fileName, minFreq)"
   ]
  },
  {
   "cell_type": "code",
   "execution_count": 9,
   "id": "5caec8a1-90d7-487e-b371-c395752ac2e4",
   "metadata": {
    "tags": []
   },
   "outputs": [],
   "source": [
    "# Define SDR parameters\n",
    "RTLTCP_SAMPLERATE = 16000\n",
    "RTLTCP_TUNINGFREQ = 144174000\n",
    "RTLTCP_USBSIG = 144174000"
   ]
  },
  {
   "cell_type": "code",
   "execution_count": 11,
   "id": "44e7be5a-9ac5-4cb8-a09a-ad7cbae406f7",
   "metadata": {
    "tags": []
   },
   "outputs": [
    {
     "ename": "SyntaxError",
     "evalue": "'[' was never closed (3808685092.py, line 2)",
     "output_type": "error",
     "traceback": [
      "\u001b[0;36m  Cell \u001b[0;32mIn[11], line 2\u001b[0;36m\u001b[0m\n\u001b[0;31m    def LoadIQ(inputFile: str) -> np.ndarray[any:\u001b[0m\n\u001b[0m                                            ^\u001b[0m\n\u001b[0;31mSyntaxError\u001b[0m\u001b[0;31m:\u001b[0m '[' was never closed\n"
     ]
    }
   ],
   "source": [
    "# Load IQ data to numpy array\n",
    "def LoadIQ(inputFile: str) -> np.ndarray[any]:\n",
    "    import numpy as np\n",
    "    # Define the data type for complex 32-bit little-endian\n",
    "    dtype = np.dtype('<f4')  # '<' indicates little-endian, 'f4' indicates 32-bit float\n",
    "    # Load the data from the file\n",
    "    data = np.fromfile(inputFile, dtype=dtype)\n",
    "    # Reshape the data into complex numbers (each complex number is composed of two 32-bit floats)\n",
    "    complex_data = data.view(np.complex64)\n",
    "    # Now you have the complex data in the 'complex_data' NumPy array\n",
    "    #print(complex_data)\n",
    "    return complex_data"
   ]
  }
 ],
 "metadata": {
  "kernelspec": {
   "display_name": "Python 3 (ipykernel)",
   "language": "python",
   "name": "python3"
  },
  "language_info": {
   "codemirror_mode": {
    "name": "ipython",
    "version": 3
   },
   "file_extension": ".py",
   "mimetype": "text/x-python",
   "name": "python",
   "nbconvert_exporter": "python",
   "pygments_lexer": "ipython3",
   "version": "3.10.11"
  }
 },
 "nbformat": 4,
 "nbformat_minor": 5
}
